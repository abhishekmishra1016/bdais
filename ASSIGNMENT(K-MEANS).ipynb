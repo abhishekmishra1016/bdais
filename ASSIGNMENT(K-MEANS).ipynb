{
 "cells": [
  {
   "cell_type": "code",
   "execution_count": 9,
   "id": "a56ed01f",
   "metadata": {},
   "outputs": [],
   "source": [
    "import pandas as pd\n",
    "from matplotlib import pyplot as plt\n",
    "from sklearn.preprocessing import StandardScaler\n",
    "from sklearn.model_selection import train_test_split\n",
    "from sklearn.cluster import KMeans\n",
    "from sklearn.metrics import accuracy_score"
   ]
  },
  {
   "cell_type": "code",
   "execution_count": 10,
   "id": "81be4e0b",
   "metadata": {},
   "outputs": [],
   "source": [
    "df = pd.read_csv(\"wine.csv\")"
   ]
  },
  {
   "cell_type": "code",
   "execution_count": 11,
   "id": "57b3fe50",
   "metadata": {},
   "outputs": [
    {
     "data": {
      "text/html": [
       "<div>\n",
       "<style scoped>\n",
       "    .dataframe tbody tr th:only-of-type {\n",
       "        vertical-align: middle;\n",
       "    }\n",
       "\n",
       "    .dataframe tbody tr th {\n",
       "        vertical-align: top;\n",
       "    }\n",
       "\n",
       "    .dataframe thead th {\n",
       "        text-align: right;\n",
       "    }\n",
       "</style>\n",
       "<table border=\"1\" class=\"dataframe\">\n",
       "  <thead>\n",
       "    <tr style=\"text-align: right;\">\n",
       "      <th></th>\n",
       "      <th>1</th>\n",
       "      <th>14.23</th>\n",
       "      <th>1.71</th>\n",
       "      <th>2.43</th>\n",
       "      <th>15.6</th>\n",
       "      <th>127</th>\n",
       "      <th>2.8</th>\n",
       "      <th>3.06</th>\n",
       "      <th>.28</th>\n",
       "      <th>2.29</th>\n",
       "      <th>5.64</th>\n",
       "      <th>1.04</th>\n",
       "      <th>3.92</th>\n",
       "      <th>1065</th>\n",
       "    </tr>\n",
       "  </thead>\n",
       "  <tbody>\n",
       "    <tr>\n",
       "      <th>0</th>\n",
       "      <td>1</td>\n",
       "      <td>13.20</td>\n",
       "      <td>1.78</td>\n",
       "      <td>2.14</td>\n",
       "      <td>11.2</td>\n",
       "      <td>100</td>\n",
       "      <td>2.65</td>\n",
       "      <td>2.76</td>\n",
       "      <td>0.26</td>\n",
       "      <td>1.28</td>\n",
       "      <td>4.38</td>\n",
       "      <td>1.05</td>\n",
       "      <td>3.40</td>\n",
       "      <td>1050</td>\n",
       "    </tr>\n",
       "    <tr>\n",
       "      <th>1</th>\n",
       "      <td>1</td>\n",
       "      <td>13.16</td>\n",
       "      <td>2.36</td>\n",
       "      <td>2.67</td>\n",
       "      <td>18.6</td>\n",
       "      <td>101</td>\n",
       "      <td>2.80</td>\n",
       "      <td>3.24</td>\n",
       "      <td>0.30</td>\n",
       "      <td>2.81</td>\n",
       "      <td>5.68</td>\n",
       "      <td>1.03</td>\n",
       "      <td>3.17</td>\n",
       "      <td>1185</td>\n",
       "    </tr>\n",
       "    <tr>\n",
       "      <th>2</th>\n",
       "      <td>1</td>\n",
       "      <td>14.37</td>\n",
       "      <td>1.95</td>\n",
       "      <td>2.50</td>\n",
       "      <td>16.8</td>\n",
       "      <td>113</td>\n",
       "      <td>3.85</td>\n",
       "      <td>3.49</td>\n",
       "      <td>0.24</td>\n",
       "      <td>2.18</td>\n",
       "      <td>7.80</td>\n",
       "      <td>0.86</td>\n",
       "      <td>3.45</td>\n",
       "      <td>1480</td>\n",
       "    </tr>\n",
       "    <tr>\n",
       "      <th>3</th>\n",
       "      <td>1</td>\n",
       "      <td>13.24</td>\n",
       "      <td>2.59</td>\n",
       "      <td>2.87</td>\n",
       "      <td>21.0</td>\n",
       "      <td>118</td>\n",
       "      <td>2.80</td>\n",
       "      <td>2.69</td>\n",
       "      <td>0.39</td>\n",
       "      <td>1.82</td>\n",
       "      <td>4.32</td>\n",
       "      <td>1.04</td>\n",
       "      <td>2.93</td>\n",
       "      <td>735</td>\n",
       "    </tr>\n",
       "    <tr>\n",
       "      <th>4</th>\n",
       "      <td>1</td>\n",
       "      <td>14.20</td>\n",
       "      <td>1.76</td>\n",
       "      <td>2.45</td>\n",
       "      <td>15.2</td>\n",
       "      <td>112</td>\n",
       "      <td>3.27</td>\n",
       "      <td>3.39</td>\n",
       "      <td>0.34</td>\n",
       "      <td>1.97</td>\n",
       "      <td>6.75</td>\n",
       "      <td>1.05</td>\n",
       "      <td>2.85</td>\n",
       "      <td>1450</td>\n",
       "    </tr>\n",
       "  </tbody>\n",
       "</table>\n",
       "</div>"
      ],
      "text/plain": [
       "   1  14.23  1.71  2.43  15.6  127   2.8  3.06   .28  2.29  5.64  1.04  3.92  \\\n",
       "0  1  13.20  1.78  2.14  11.2  100  2.65  2.76  0.26  1.28  4.38  1.05  3.40   \n",
       "1  1  13.16  2.36  2.67  18.6  101  2.80  3.24  0.30  2.81  5.68  1.03  3.17   \n",
       "2  1  14.37  1.95  2.50  16.8  113  3.85  3.49  0.24  2.18  7.80  0.86  3.45   \n",
       "3  1  13.24  2.59  2.87  21.0  118  2.80  2.69  0.39  1.82  4.32  1.04  2.93   \n",
       "4  1  14.20  1.76  2.45  15.2  112  3.27  3.39  0.34  1.97  6.75  1.05  2.85   \n",
       "\n",
       "   1065  \n",
       "0  1050  \n",
       "1  1185  \n",
       "2  1480  \n",
       "3   735  \n",
       "4  1450  "
      ]
     },
     "execution_count": 11,
     "metadata": {},
     "output_type": "execute_result"
    }
   ],
   "source": [
    "df.head()"
   ]
  },
  {
   "cell_type": "code",
   "execution_count": 12,
   "id": "ede0e229",
   "metadata": {},
   "outputs": [],
   "source": [
    "km = KMeans(n_clusters = 3, max_iter = 400,verbose = True, tol = 0.2)"
   ]
  },
  {
   "cell_type": "code",
   "execution_count": 25,
   "id": "4e11c34c",
   "metadata": {},
   "outputs": [
    {
     "data": {
      "text/plain": [
       "<matplotlib.collections.PathCollection at 0x15e5be107c0>"
      ]
     },
     "execution_count": 25,
     "metadata": {},
     "output_type": "execute_result"
    },
    {
     "data": {
      "image/png": "[encoded data removed]",
      "text/plain": [
       "<Figure size 432x288 with 1 Axes>"
      ]
     },
     "metadata": {
      "needs_background": "light"
     },
     "output_type": "display_data"
    }
   ],
   "source": [
    "plt.scatter(df['1'], df['1.71'], c = df['2.43'])"
   ]
  },
  {
   "cell_type": "code",
   "execution_count": 26,
   "id": "49a42eaf",
   "metadata": {},
   "outputs": [
    {
     "name": "stdout",
     "output_type": "stream",
     "text": [
      "Initialization complete\n",
      "Iteration 0, inertia 136.85850000000005\n",
      "Iteration 1, inertia 99.78942213885551\n",
      "Converged at iteration 1: center shift 0.04406827021324147 within tolerance 0.18962616425675893.\n",
      "Initialization complete\n",
      "Iteration 0, inertia 128.23490000000004\n",
      "Iteration 1, inertia 107.39623502819985\n",
      "Converged at iteration 1: center shift 0.12470711782093827 within tolerance 0.18962616425675893.\n",
      "Initialization complete\n",
      "Iteration 0, inertia 178.3991000000001\n",
      "Iteration 1, inertia 107.85058374516473\n",
      "Converged at iteration 1: center shift 0.12208344688764458 within tolerance 0.18962616425675893.\n",
      "Initialization complete\n",
      "Iteration 0, inertia 106.54260000000002\n",
      "Converged at iteration 0: center shift 0.10092973728350511 within tolerance 0.18962616425675893.\n",
      "Initialization complete\n",
      "Iteration 0, inertia 142.29470000000006\n",
      "Iteration 1, inertia 118.24426623767907\n",
      "Converged at iteration 1: center shift 0.14099100256491467 within tolerance 0.18962616425675893.\n",
      "Initialization complete\n",
      "Iteration 0, inertia 170.42960000000005\n",
      "Iteration 1, inertia 98.69847742038607\n",
      "Converged at iteration 1: center shift 0.035418013413237706 within tolerance 0.18962616425675893.\n",
      "Initialization complete\n",
      "Iteration 0, inertia 188.23680000000004\n",
      "Iteration 1, inertia 152.44243457410363\n",
      "Converged at iteration 1: center shift 0.11149434703790705 within tolerance 0.18962616425675893.\n",
      "Initialization complete\n",
      "Iteration 0, inertia 158.97380000000007\n",
      "Iteration 1, inertia 106.32510326464526\n",
      "Converged at iteration 1: center shift 0.09336524016460139 within tolerance 0.18962616425675893.\n",
      "Initialization complete\n",
      "Iteration 0, inertia 185.9999\n",
      "Iteration 1, inertia 104.66079174517712\n",
      "Converged at iteration 1: center shift 0.1435361922175397 within tolerance 0.18962616425675893.\n",
      "Initialization complete\n",
      "Iteration 0, inertia 183.13930000000002\n",
      "Iteration 1, inertia 98.4087771909797\n",
      "Converged at iteration 1: center shift 0.04079211056738101 within tolerance 0.18962616425675893.\n"
     ]
    }
   ],
   "source": [
    "pred = km.fit_predict(df[['14.23','1.71']])"
   ]
  },
  {
   "cell_type": "code",
   "execution_count": 27,
   "id": "1513df9c",
   "metadata": {},
   "outputs": [],
   "source": [
    "score = accuracy_score(df['1'], pred)"
   ]
  },
  {
   "cell_type": "code",
   "execution_count": 31,
   "id": "b0d6ae05",
   "metadata": {},
   "outputs": [
    {
     "data": {
      "text/plain": [
       "0.3389830508474576"
      ]
     },
     "execution_count": 31,
     "metadata": {},
     "output_type": "execute_result"
    }
   ],
   "source": [
    "score"
   ]
  },
  {
   "cell_type": "code",
   "execution_count": 29,
   "id": "ca99211c",
   "metadata": {},
   "outputs": [
    {
     "data": {
      "text/plain": [
       "<matplotlib.collections.PathCollection at 0x15e5c5dceb0>"
      ]
     },
     "execution_count": 29,
     "metadata": {},
     "output_type": "execute_result"
    },
    {
     "data": {
      "image/png": "[encoded data removed]",
      "text/plain": [
       "<Figure size 432x288 with 1 Axes>"
      ]
     },
     "metadata": {
      "needs_background": "light"
     },
     "output_type": "display_data"
    }
   ],
   "source": [
    "plt.scatter(df['14.23'], df['1.71'], c = pred)"
   ]
  },
  {
   "cell_type": "code",
   "execution_count": 30,
   "id": "5ff1567f",
   "metadata": {},
   "outputs": [
    {
     "data": {
      "text/plain": [
       "<matplotlib.collections.PathCollection at 0x15e5ca64d00>"
      ]
     },
     "execution_count": 30,
     "metadata": {},
     "output_type": "execute_result"
    },
    {
     "data": {
      "image/png": "[encoded data removed]",
      "text/plain": [
       "<Figure size 432x288 with 1 Axes>"
      ]
     },
     "metadata": {
      "needs_background": "light"
     },
     "output_type": "display_data"
    }
   ],
   "source": [
    "plt.scatter(km.cluster_centers_[:,0] ,km.cluster_centers_[:,1], color='black')\n"
   ]
  },
  {
   "cell_type": "code",
   "execution_count": 32,
   "id": "2fb784de",
   "metadata": {},
   "outputs": [
    {
     "data": {
      "text/plain": [
       "0.3389830508474576"
      ]
     },
     "execution_count": 32,
     "metadata": {},
     "output_type": "execute_result"
    }
   ],
   "source": [
    "score"
   ]
  },
  {
   "cell_type": "code",
   "execution_count": null,
   "id": "96045e8a",
   "metadata": {},
   "outputs": [],
   "source": []
  }
 ],
 "metadata": {
  "kernelspec": {
   "display_name": "Python 3",
   "language": "python",
   "name": "python3"
  },
  "language_info": {
   "codemirror_mode": {
    "name": "ipython",
    "version": 3
   },
   "file_extension": ".py",
   "mimetype": "text/x-python",
   "name": "python",
   "nbconvert_exporter": "python",
   "pygments_lexer": "ipython3",
   "version": "3.9.5"
  }
 },
 "nbformat": 4,
 "nbformat_minor": 5
}
